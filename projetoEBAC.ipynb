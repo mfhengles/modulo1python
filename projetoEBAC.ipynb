{
  "nbformat": 4,
  "nbformat_minor": 0,
  "metadata": {
    "colab": {
      "provenance": [],
      "authorship_tag": "ABX9TyP4hPdl5WLhBmdmB0x644hQ",
      "include_colab_link": true
    },
    "kernelspec": {
      "name": "python3",
      "display_name": "Python 3"
    },
    "language_info": {
      "name": "python"
    }
  },
  "cells": [
    {
      "cell_type": "markdown",
      "metadata": {
        "id": "view-in-github",
        "colab_type": "text"
      },
      "source": [
        "<a href=\"https://colab.research.google.com/github/mfhengles/modulo1python/blob/main/projetoEBAC.ipynb\" target=\"_parent\"><img src=\"https://colab.research.google.com/assets/colab-badge.svg\" alt=\"Open In Colab\"/></a>"
      ]
    },
    {
      "cell_type": "markdown",
      "source": [
        "#Calculadora inteligente\n",
        "##com base no desenpenho no primeiro modulo"
      ],
      "metadata": {
        "id": "UBjYB7Se8MI_"
      }
    },
    {
      "cell_type": "code",
      "execution_count": null,
      "metadata": {
        "id": "ujNE8Xqh3WFq"
      },
      "outputs": [],
      "source": [
        "def soma (a, b):\n",
        "  return == a + b\n",
        "def subtração (a, b):\n",
        "  return == a - b\n",
        "def multiplicação (a, b):\n",
        "  return == a * b\n",
        "def divisão (a, b):\n",
        "  return == a/ b\n",
        "\n",
        "a = int(input(\"digite o primeiro numero\"))\n",
        "operação = input(\"digite o numero da operação desejada\")\n",
        "b = int(input('digite o segundo numero'))\n",
        "operação = input(\"digite o nunero da operação desejada\")\n",
        "\n",
        "resultado = None # Initialize resultado\n",
        "\n",
        "if operação == \"+\":\n",
        "  resultado = soma(a, b):\n",
        "elif operação == \"-\":\n",
        "  resultado = subtração(a, b):\n",
        "  elif operação == \"*\":\n",
        "    resultado =="
      ]
    }
  ]
}